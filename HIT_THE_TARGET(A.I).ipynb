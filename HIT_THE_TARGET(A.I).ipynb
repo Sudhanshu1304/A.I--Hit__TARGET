{
 "cells": [
  {
   "cell_type": "markdown",
   "metadata": {},
   "source": [
    "# PROGRAM INFO\n",
    "\n",
    "\n",
    "In this Project we will be seeing how we can teach a Ball ⚽  to Accuratelly \n",
    "Hit The Target Target 🎯 Which are Randomly appering on the screen by learning \n",
    "through Observations .\n",
    "\n",
    "\n",
    "We are using LinearRegression for this Project.\n",
    "\n",
    "Here we just have to predict one variable that is the initial speed(U) of the\n",
    "Ball ⚽ based on the given input of theta (Angle) by the User.\n",
    "\n",
    "The Basic idea is that first we will be traning the model by providing it with\n",
    "\n",
    "the correct answer for U.\n",
    "\n",
    "The Data to be feed to the model or the Feactures are X_DISTANCE and Y_DISTANCE of the Target and the theta (ANGLE).\n",
    "\n",
    "\n",
    "\n"
   ]
  },
  {
   "cell_type": "code",
   "execution_count": 2,
   "metadata": {},
   "outputs": [
    {
     "name": "stdout",
     "output_type": "stream",
     "text": [
      "pygame 1.9.6\n",
      "Hello from the pygame community. https://www.pygame.org/contribute.html\n"
     ]
    }
   ],
   "source": [
    "# IMPORTING THE LIBRARIES \n",
    "\n",
    "from sklearn.linear_model import LinearRegression\n",
    "import random\n",
    "import math\n",
    "import numpy as np\n",
    "import pandas as pd\n",
    "lr1 = LinearRegression()\n",
    "import matplotlib.pyplot as plt\n",
    "from sklearn.metrics import r2_score\n",
    "import pygame as pg\n",
    "lr=LinearRegression()"
   ]
  },
  {
   "cell_type": "code",
   "execution_count": 3,
   "metadata": {},
   "outputs": [],
   "source": [
    "# Window size and Variable initialize \n",
    "\n",
    "win_x = 900\n",
    "win_y = 500\n",
    "\n",
    "A = []\n",
    "g = 10\n",
    "P = []"
   ]
  },
  {
   "cell_type": "code",
   "execution_count": 4,
   "metadata": {},
   "outputs": [
    {
     "name": "stdout",
     "output_type": "stream",
     "text": [
      "\n",
      "THE FACT VARIABLE CONTROLS THE SPEED ,CHANGE ITS VALUE TO SPEED OR SLOW DOWN...\n",
      "You can even see the Error VS Itteration Graph by making plot_graph=True\n",
      "\n",
      "Enter the theta to train:30\n"
     ]
    }
   ],
   "source": [
    "#                        CONTROL STRUCTURES\n",
    "\n",
    "\n",
    "print(\"\\nTHE FACT VARIABLE CONTROLS THE SPEED ,CHANGE ITS VALUE TO SPEED OR SLOW DOWN...\\nYou can even see the Error VS Itteration Graph by making plot_graph=True\\n\")\n",
    "fact=10\n",
    "plot_graph=False\n",
    "T=int(input('Enter the theta to train:'))\n",
    "\n"
   ]
  },
  {
   "cell_type": "code",
   "execution_count": 5,
   "metadata": {},
   "outputs": [],
   "source": [
    "# DATA GENERATION MODULE \n",
    "\n",
    "\n",
    "\n",
    "def target():\n",
    "\n",
    "    a1 = random.randint(win_x / 2, win_x - 20)  # x\n",
    "    a2 = random.randint(0, win_y)  # y\n",
    "    x_distance = a1 - 10 + 10\n",
    "    y_distance = 240 - a2\n",
    "    theta1 =T\n",
    "    ans = [x_distance, y_distance, theta1]\n",
    "    A.append(ans)\n",
    "    u5 = (-((g * x_distance ** 2) / (2 * (math.cos((math.pi / 180) * theta1)) ** 2 * (\n",
    "        (y_distance - math.tan((math.pi / 180) * theta1) * x_distance))))) ** 0.5\n",
    "    u1 = u5\n",
    "    pre = [u1]\n",
    "    P.append(pre)\n"
   ]
  },
  {
   "cell_type": "markdown",
   "metadata": {},
   "source": [
    "# MODEL_TRAINING\n",
    "\n",
    "Here \"itr\" is the no of sample data that you want to train your model.\n",
    "It can be 100, 1000 etc depending on output, Since we only want one variable\n",
    "\"U\" as output 100 could work better "
   ]
  },
  {
   "cell_type": "code",
   "execution_count": 6,
   "metadata": {},
   "outputs": [],
   "source": [
    "\n",
    "\n",
    "itr=100\n",
    "\n",
    "for i in range(itr):\n",
    "    target()\n",
    "    "
   ]
  },
  {
   "cell_type": "code",
   "execution_count": 7,
   "metadata": {},
   "outputs": [
    {
     "data": {
      "text/plain": [
       "LinearRegression(copy_X=True, fit_intercept=True, n_jobs=None, normalize=False)"
      ]
     },
     "execution_count": 7,
     "metadata": {},
     "output_type": "execute_result"
    }
   ],
   "source": [
    "# DATA FITTING\n",
    "\n",
    "A = np.array(A).reshape((len(A), 3))\n",
    "P = pd.DataFrame(np.array(P).reshape((len(P), 1)))\n",
    "u = P.iloc[:, [0]]\n",
    "data_19 = pd.DataFrame(A)\n",
    "lr1.fit(data_19, u)\n"
   ]
  },
  {
   "cell_type": "code",
   "execution_count": 8,
   "metadata": {},
   "outputs": [
    {
     "data": {
      "text/plain": [
       "LinearRegression(copy_X=True, fit_intercept=True, n_jobs=None, normalize=False)"
      ]
     },
     "execution_count": 8,
     "metadata": {},
     "output_type": "execute_result"
    }
   ],
   "source": [
    "# GRAPH MODULE\n",
    "\n",
    "A = np.array(A).reshape((len(A), 3))\n",
    "P = pd.DataFrame(np.array(P).reshape((len(P), 1)))\n",
    "u = P.iloc[:, [0]]\n",
    "data_19 = pd.DataFrame(A)\n",
    "lr1.fit(data_19, u)\n",
    "\n"
   ]
  },
  {
   "cell_type": "markdown",
   "metadata": {},
   "source": [
    "# PYGAME MODULE\n",
    "\n"
   ]
  },
  {
   "cell_type": "code",
   "execution_count": 10,
   "metadata": {},
   "outputs": [],
   "source": [
    "\n",
    "pg.init()\n",
    "box=[]\n",
    "\n",
    "win_x=900\n",
    "win_y=500\n",
    "\n",
    "window=pg.display.set_mode((win_x,win_y))\n",
    "\n",
    "font=pg.font.SysFont(None,25)\n",
    "\n",
    "\n",
    "class game:\n",
    "\n",
    "    def __init__(self,g,x,y,r):\n",
    "\n",
    "        self.x=x\n",
    "        self.x1=x\n",
    "        self.y1=y\n",
    "        self.y=y\n",
    "        self.g=g\n",
    "        self.r=r\n",
    "        self.w=r\n",
    "        self.t=0\n",
    "        self.a1 = 300\n",
    "        self.a2 = 300\n",
    "        self.x_distance = self.a1 - self.x1 + 10\n",
    "        self.y_distance = self.y1 - self.a2\n",
    "        self.w1 = 2 * np.random.random((1, 4)) - 1\n",
    "        self.w2 = 2 * np.random.random((4, 1)) - 1\n",
    "        self.A=1\n",
    "        self.msg=0\n",
    "        self.jj=0\n",
    "\n",
    "\n",
    "\n",
    "    def text(self):\n",
    "\n",
    "        self.text1=font.render(str('ERROR:'+'  '+str(self.msg)),True,(255,255,255))\n",
    "        self.text2 = font.render(str('Model_ACC:' + '  ' + str(r2_score(u,lr1.predict(data_19))*100)[:7]), True, (255, 200, 255))\n",
    "        window.blit(self.text1,[win_x-230,80])\n",
    "        window.blit(self.text2, [win_x - 230, 40])\n",
    "\n",
    "        \n",
    "    def create_object(self):\n",
    "\n",
    "        self.theta1 = T\n",
    "        XX = [[self.x_distance, self.y_distance, self.theta1]]\n",
    "        self.u = lr1.predict(XX)\n",
    "        self.theta = self.theta1\n",
    "\n",
    "        # CORRECT ANSWER\n",
    "\n",
    "        self.u5 = (-((self.g * self.x_distance ** 2) / (2 * (math.cos((math.pi / 180) * self.theta1)) ** 2 * (\n",
    "            (self.y_distance - math.tan((math.pi / 180) * self.theta1) * self.x_distance))))) ** 0.5\n",
    "\n",
    "        if self.A==1:\n",
    "\n",
    "            self.msg=(abs(self.u-self.u5)/self.u5)*100\n",
    "            self.jj=self.jj+1\n",
    "\n",
    "            if plot_graph==True:\n",
    "                plot2(self.jj,int(self.msg))\n",
    "            self.A=0\n",
    "\n",
    "        pg.draw.circle(window,(128,128,128),(int(self.x),int(self.y)),int(self.r),self.w)\n",
    "        self.x = self.x1 + ((self.u * (math.cos(self.theta * (math.pi / 180))) * (self.t)) * 1)\n",
    "        self.y=self.y1-((self.u*(math.sin(self.theta*(math.pi / 180)))*(self.t)*1-0.5*self.g*((self.t))**2)*1)\n",
    "        return [self.x,self.y]\n",
    "\n",
    "    \n",
    "    def mov(self):\n",
    "        self.t=self.t+0.01*fact\n",
    "\n",
    "        \n",
    "    def arrow(self):\n",
    "\n",
    "        vx=(self.u*(math.cos(self.theta * (math.pi / 180))))/8\n",
    "        vy=(((self.u*(math.sin(self.theta*(math.pi / 180))))-self.g*self.t))/8\n",
    "        mag=(vx**2+vy**2)**0.5\n",
    "\n",
    "        if mag<5:\n",
    "            colur=(0,0,150)\n",
    "        elif mag>=5 and mag<9:\n",
    "            colur=(205,92,92)\n",
    "        else:colur=(191,10,48)\n",
    "        pg.draw.line(window,colur,(self.x,self.y),(self.x+(vx)*10,self.y-(vy)*10),2)\n",
    "\n",
    "\n",
    "    def condition(self):\n",
    "\n",
    "        if self.x>=win_x or self.x<=0 or self.y>=win_y :\n",
    "            self.A=1\n",
    "            self.x=self.x1\n",
    "            self.y=self.y1\n",
    "            self.t=0\n",
    "            self.a1 = random.randint(win_x / 2, win_x - 20)\n",
    "            self.a2 = random.randint(0, win_y)\n",
    "\n",
    "\n",
    "    def target(self):\n",
    "\n",
    "        rec=pg.Rect(self.a1,self.a2,30,30)\n",
    "        pg.draw.rect(window,(250,250,250),rec)\n",
    "\n",
    "        \n",
    "    def corret_distance(self):\n",
    "\n",
    "        self.x_distance = self.a1 - self.x1 + 10\n",
    "        self.y_distance=self.y1-self.a2\n",
    "        return [self.x_distance,self.y_distance]\n",
    "\n"
   ]
  },
  {
   "cell_type": "code",
   "execution_count": 11,
   "metadata": {},
   "outputs": [],
   "source": [
    "# CALLING THE OBJECT\n",
    "\n",
    "o1=game(g,10,190,10)"
   ]
  },
  {
   "cell_type": "code",
   "execution_count": 13,
   "metadata": {},
   "outputs": [],
   "source": [
    "# RUNNING THE PROGRAM\n",
    "\n",
    "run=True\n",
    "\n",
    "while(run):\n",
    "    \n",
    "    window.fill((173, 216, 230,10))\n",
    "    base2=pg.Rect(win_x-240,30,202,100)\n",
    "    pg.draw.rect(window,(169,255,47,0),base2,9)\n",
    "    base = pg.Rect(0,win_y/2-50,win_y/2-100,win_y/2+10)\n",
    "    pg.draw.rect(window,(255,255,255),base,2)\n",
    "    o1.text()\n",
    "    for event in pg.event.get():\n",
    "        if event.type==pg.QUIT:\n",
    "            run=False\n",
    "\n",
    "    o1.target()\n",
    "    o1.corret_distance()\n",
    "    o1.create_object()\n",
    "    o1.mov()\n",
    "    o1.arrow()\n",
    "    o1.condition()\n",
    "\n",
    "    pg.display.update()\n"
   ]
  },
  {
   "cell_type": "code",
   "execution_count": null,
   "metadata": {},
   "outputs": [],
   "source": []
  }
 ],
 "metadata": {
  "kernelspec": {
   "display_name": "Python 3",
   "language": "python",
   "name": "python3"
  },
  "language_info": {
   "codemirror_mode": {
    "name": "ipython",
    "version": 3
   },
   "file_extension": ".py",
   "mimetype": "text/x-python",
   "name": "python",
   "nbconvert_exporter": "python",
   "pygments_lexer": "ipython3",
   "version": "3.7.4"
  }
 },
 "nbformat": 4,
 "nbformat_minor": 2
}
